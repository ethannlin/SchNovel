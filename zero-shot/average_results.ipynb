{
 "cells": [
  {
   "cell_type": "code",
   "execution_count": 1,
   "metadata": {},
   "outputs": [],
   "source": [
    "import json"
   ]
  },
  {
   "cell_type": "code",
   "execution_count": null,
   "metadata": {},
   "outputs": [],
   "source": [
    "# Replace with the directory containing all results json files. \n",
    "RESULTS_DIR = \"\""
   ]
  },
  {
   "cell_type": "code",
   "execution_count": 2,
   "metadata": {},
   "outputs": [],
   "source": [
    "years = [2019, 2020, 2021, 2022, 2023]\n",
    "gaps = [2, 4, 6, 8, 10]"
   ]
  },
  {
   "cell_type": "code",
   "execution_count": null,
   "metadata": {},
   "outputs": [],
   "source": [
    "score = 0\n",
    "count = 0\n",
    "\n",
    "for year in years:\n",
    "    for gap in gaps:\n",
    "        asc_yr = 0\n",
    "        dsc_yr = 0\n",
    "        results = []\n",
    "\n",
    "        data = []\n",
    "        with open(f'{RESULTS_DIR}/{year}_{gap}_results.jsonl', 'r') as f:\n",
    "            for line in f:\n",
    "                data.append(json.loads(line))\n",
    "\n",
    "        for i in range(len(data)):\n",
    "            results.append(data[i]['response']['body']['choices'][0]['message']['content'])\n",
    "\n",
    "        for i in range(len(results)):\n",
    "            if results[i] == '1' and i % 2 == 0:\n",
    "                dsc_yr += 1\n",
    "                score += 1\n",
    "            elif results[i] == '2' and i % 2 == 1:\n",
    "                asc_yr += 1\n",
    "                score += 1\n",
    "            count += 1\n",
    "\n",
    "        # print(f\"{year}_{gap} ASC YR: {asc_yr/(len(results)/2)}\")\n",
    "        # print(f\"{year}_{gap} DSC YR: {dsc_yr/(len(results)/2)}\")\n",
    "\n",
    "        print(f\"{year}_{gap} Acc: {(asc_yr + dsc_yr) / len(results)}\")\n",
    "print(f\"Overall Accuracy: {score/count}\")"
   ]
  },
  {
   "cell_type": "code",
   "execution_count": null,
   "metadata": {},
   "outputs": [],
   "source": []
  }
 ],
 "metadata": {
  "kernelspec": {
   "display_name": "base",
   "language": "python",
   "name": "python3"
  },
  "language_info": {
   "codemirror_mode": {
    "name": "ipython",
    "version": 3
   },
   "file_extension": ".py",
   "mimetype": "text/x-python",
   "name": "python",
   "nbconvert_exporter": "python",
   "pygments_lexer": "ipython3",
   "version": "3.12.2"
  }
 },
 "nbformat": 4,
 "nbformat_minor": 2
}
