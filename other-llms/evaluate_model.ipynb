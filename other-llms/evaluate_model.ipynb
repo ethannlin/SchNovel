{
 "cells": [
  {
   "cell_type": "code",
   "execution_count": 9,
   "metadata": {},
   "outputs": [],
   "source": [
    "import os\n",
    "from together import Together\n",
    "import json\n",
    "import time\n",
    "from tqdm import tqdm"
   ]
  },
  {
   "cell_type": "code",
   "execution_count": 10,
   "metadata": {},
   "outputs": [],
   "source": [
    "# Filepath to category's dataset\n",
    "FILEPATH = \"\"\n",
    "\n",
    "# Directory to store result files to\n",
    "RESULTS_DIR = \"\"\n",
    "\n",
    "year = \"2023\"\n",
    "model = \"google/gemma-2-9b-it\" # Available models (https://docs.together.ai/docs/chat-models)"
   ]
  },
  {
   "cell_type": "code",
   "execution_count": 11,
   "metadata": {},
   "outputs": [],
   "source": [
    "PROMPT = '''You are an advanced language model tasked with determining the novelty of research papers in 2024. Your goal is to evaluate and compare the novelty of two research papers based on their titles and abstracts. **The order in which the papers are presented is random and should not influence your evaluation.** Follow these steps to make an accurate and unbiased determination:\n",
    "\n",
    "### **Step 1: Independent Evaluation of Each Paper**\n",
    "\n",
    "- **Individually** analyze each research paper’s title and abstract. Treat each paper as if it is the only one under review at that moment, without considering the content of the other paper.\n",
    "- Evaluate the following aspects independently for each paper:\n",
    "    - **Novelty of Methodology**: Assess whether the methods used are new and innovative.\n",
    "    - **Surprisingness of Findings**: Determine if the findings are unexpected or counterintuitive.\n",
    "    - **Impact on Existing Knowledge**: Evaluate how the research challenges or expands current scientific understanding.\n",
    "    - **Potential for Future Research**: Consider whether the paper opens up new directions for research.\n",
    "    - **Relevance to 2024 Scientific Understanding**: Assess how well the paper aligns with or pushes the boundaries of current trends.\n",
    "\n",
    "### **Step 2: Quantitative Assessment**\n",
    "\n",
    "- **Independently** assign a score from 1-10 to each research paper for its novelty, with 10 being the most novel. The score should be based solely on the content of the title and abstract.\n",
    "- Provide a brief justification for each score, using specific quotes and context from the abstract to support your reasoning.\n",
    "\n",
    "### **Step 3: Reaffirm Independence**\n",
    "\n",
    "- Before comparing the scores, **reaffirm** that each paper was evaluated independently, without any influence from the order of presentation. Remind yourself that the order of the papers is random and should not affect the final decision.\n",
    "\n",
    "### **Step 4: Final Comparison**\n",
    "\n",
    "- Compare the independently assigned scores after reaffirming their independence.\n",
    "- Determine which paper exhibits greater novelty based on the higher score, and provide the identifier (X or Y) of the more novel paper.\n",
    "- **Important**: Reflect on whether your final decision would change if the papers were presented in a different order. Ensure that your evaluation is strictly based on content and merit.'''"
   ]
  },
  {
   "cell_type": "markdown",
   "metadata": {},
   "source": [
    "# test"
   ]
  },
  {
   "cell_type": "code",
   "execution_count": 13,
   "metadata": {},
   "outputs": [],
   "source": [
    "papers = {\n",
    "    'paper1' : {\n",
    "        'title': \"Using the power of memes: The Pepper Robot as a communicative\\n  facilitator for autistic children (cAESAR2023 workshop)\",\n",
    "        'abstract': \"This article describes the preliminary qualitative results of a therapeutic\\nlaboratory involving the Pepper robot, as a facilitator, to promote autonomy\\nand functional acquisition in autistic children with low support needs (level 1\\nsupport). The lab, designed and led by a multidisciplinary team, involved 4\\nchildren, aged 11 to 13 years, and was organized in weekly meetings for the\\nduration of four months. The following is the result of an in-depth qualitative\\nevaluation of the interactions that took place between the children and the\\nPepper robot, with the aim of analyzing their effectiveness for the purpose of\\npromoting the development of social and communication skills in the\\nparticipants. The observations and analyses conducted during the interactions\\nprovided valuable insights into the dialogue and communication style employed\\nand paved the way for possible strategies to make the robot more empathetic and\\nengaging for autistic children.\\n\"\n",
    "    },\n",
    "    'paper2' : {\n",
    "        'title': \"Approximate Counting CSP Solutions Using Partition Function\",\n",
    "        'abstract': \"We propose a new approximate method for counting the number of the solutions\\nfor constraint satisfaction problem (CSP). The method derives from the\\npartition function based on introducing the free energy and capturing the\\nrelationship of probabilities of variables and constraints, which requires the\\nmarginal probabilities. It firstly obtains the marginal probabilities using the\\nbelief propagation, and then computes the number of solutions according to the\\npartition function. This allows us to directly plug the marginal probabilities\\ninto the partition function and efficiently count the number of solutions for\\nCSP. The experimental results show that our method can solve both random\\nproblems and structural problems efficiently.\\n\"\n",
    "    }\n",
    "}"
   ]
  },
  {
   "cell_type": "code",
   "execution_count": null,
   "metadata": {},
   "outputs": [],
   "source": [
    "client = Together(api_key=os.environ.get('TOGETHER_API_KEY'))\n",
    "\n",
    "response = client.chat.completions.create(\n",
    "    model=model,\n",
    "    messages=[\n",
    "        {\n",
    "            \"role\": \"system\",\n",
    "            \"content\": PROMPT,\n",
    "        },\n",
    "        {\n",
    "            \"role\": \"user\",\n",
    "            \"content\": f\"For the sake of time, please thoroughly evaluate, but only state the identifier (X or Y) of the research paper you believe is more novel. For example if Research Paper X is better response with X and vice versa. No other explanation is needed.\\nResearch Paper X Title: {papers['paper1']['title']}\\nResearch Paper X Abstract: {papers['paper1']['abstract']}\\n\\nResearch Paper Y Title: {papers['paper2']['title']}\\nResearch Paper Y Abstract: {papers['paper2']['abstract']}\"\n",
    "        }\n",
    "    ],\n",
    ")\n",
    "print(response.choices[0].message.content)"
   ]
  },
  {
   "cell_type": "code",
   "execution_count": null,
   "metadata": {},
   "outputs": [],
   "source": [
    "print(response.json())"
   ]
  },
  {
   "cell_type": "markdown",
   "metadata": {},
   "source": [
    "# model ___ test"
   ]
  },
  {
   "cell_type": "code",
   "execution_count": null,
   "metadata": {},
   "outputs": [],
   "source": [
    "with open(FILEPATH, 'r') as f:\n",
    "    data = json.load(f)\n",
    "\n",
    "data = data['data'][year]\n",
    "data"
   ]
  },
  {
   "cell_type": "code",
   "execution_count": null,
   "metadata": {},
   "outputs": [],
   "source": [
    "client = Together(api_key=os.environ.get('TOGETHER_API_KEY'))\n",
    "gaps = ['2', '4', '6', '8', '10']\n",
    "\n",
    "for gap in gaps:\n",
    "    results = []\n",
    "    for papers in tqdm(data[gap]):\n",
    "        response = client.chat.completions.create(\n",
    "            model=model,\n",
    "            messages=[\n",
    "                {\n",
    "                    \"role\": \"system\",\n",
    "                    \"content\": PROMPT,\n",
    "                },\n",
    "                {\n",
    "                    \"role\": \"user\",\n",
    "                    \"content\": f\"For the sake of time, please thoroughly evaluate, but only state the identifier (X or Y) of the research paper you believe is more novel. For example if Research Paper X is better, respond with X and vice versa. No other explanation is needed.\\nResearch Paper X Title: {papers['paper1']['title']}\\nResearch Paper X Abstract: {papers['paper1']['abstract']}\\n\\nResearch Paper Y Title: {papers['paper2']['title']}\\nResearch Paper Y Abstract: {papers['paper2']['abstract']}\"\n",
    "                }\n",
    "            ],\n",
    "        )\n",
    "        results.append(response.json())\n",
    "        time.sleep(1)\n",
    "\n",
    "        response = client.chat.completions.create(\n",
    "            model=model,\n",
    "            messages=[\n",
    "                {\n",
    "                    \"role\": \"system\",\n",
    "                    \"content\": PROMPT,\n",
    "                },\n",
    "                {\n",
    "                    \"role\": \"user\",\n",
    "                    \"content\": f\"For the sake of time, please thoroughly evaluate, but only state the identifier (X or Y) of the research paper you believe is more novel. For example if Research Paper X is better, respond with X and vice versa. No other explanation is needed.\\nResearch Paper X Title: {papers['paper2']['title']}\\nResearch Paper X Abstract: {papers['paper2']['abstract']}\\n\\nResearch Paper Y Title: {papers['paper1']['title']}\\nResearch Paper Y Abstract: {papers['paper1']['abstract']}\"\n",
    "                }\n",
    "            ],\n",
    "        )\n",
    "        results.append(response.json())\n",
    "        time.sleep(1)\n",
    "\n",
    "    with open(f'{RESULTS_DIR}/{year}_{gap}_results.json', 'w') as f:\n",
    "        for result in results:\n",
    "            f.write(result)\n",
    "            f.write('\\n')"
   ]
  },
  {
   "cell_type": "code",
   "execution_count": null,
   "metadata": {},
   "outputs": [],
   "source": []
  }
 ],
 "metadata": {
  "kernelspec": {
   "display_name": "base",
   "language": "python",
   "name": "python3"
  },
  "language_info": {
   "codemirror_mode": {
    "name": "ipython",
    "version": 3
   },
   "file_extension": ".py",
   "mimetype": "text/x-python",
   "name": "python",
   "nbconvert_exporter": "python",
   "pygments_lexer": "ipython3",
   "version": "3.12.2"
  }
 },
 "nbformat": 4,
 "nbformat_minor": 2
}
