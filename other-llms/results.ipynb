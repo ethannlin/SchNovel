{
 "cells": [
  {
   "cell_type": "code",
   "execution_count": 1,
   "metadata": {},
   "outputs": [],
   "source": [
    "import json"
   ]
  },
  {
   "cell_type": "code",
   "execution_count": null,
   "metadata": {},
   "outputs": [],
   "source": [
    "# Path to directory that contains the result files\n",
    "RESULTS_DIR = \"\""
   ]
  },
  {
   "cell_type": "code",
   "execution_count": 2,
   "metadata": {},
   "outputs": [],
   "source": [
    "year = 2023"
   ]
  },
  {
   "cell_type": "markdown",
   "metadata": {},
   "source": [
    "# Results for Papers published in 2023"
   ]
  },
  {
   "cell_type": "markdown",
   "metadata": {},
   "source": [
    "## 2 year gap"
   ]
  },
  {
   "cell_type": "code",
   "execution_count": 3,
   "metadata": {},
   "outputs": [],
   "source": [
    "data = []\n",
    "\n",
    "with open(f'{RESULTS_DIR}/{year}_2_results.json', 'r') as f:\n",
    "    for line in f:\n",
    "        data.append(json.loads(line))"
   ]
  },
  {
   "cell_type": "code",
   "execution_count": null,
   "metadata": {},
   "outputs": [],
   "source": [
    "data[0]['choices'][0]['message']['content'].strip()[0]"
   ]
  },
  {
   "cell_type": "code",
   "execution_count": 6,
   "metadata": {},
   "outputs": [],
   "source": [
    "results = []\n",
    "\n",
    "for i in range(len(data)):\n",
    "    results.append(data[i]['choices'][0]['message']['content'].strip()[0])"
   ]
  },
  {
   "cell_type": "code",
   "execution_count": null,
   "metadata": {},
   "outputs": [],
   "source": [
    "score1 = 0\n",
    "score2 = 0\n",
    "\n",
    "for i in range(len(results)):\n",
    "    if results[i] == 'X' and i % 2 == 0:\n",
    "        score1 += 1\n",
    "    elif results[i] == 'Y' and i % 2 == 1:\n",
    "        score2 += 1\n",
    "\n",
    "accuracy = (score1 + score2) / len(results)\n",
    "print(f\"Score 1 DESC YR: {score1 / (len(results) / 2)}\")\n",
    "print(f\"Score 2 ASC YR: {score2 / (len(results) / 2)}\")\n",
    "print(f\"Accuracy for {year} w/ year gap of 2 + position bias: {accuracy}\")"
   ]
  },
  {
   "cell_type": "markdown",
   "metadata": {},
   "source": [
    "## 4 year gap"
   ]
  },
  {
   "cell_type": "code",
   "execution_count": 8,
   "metadata": {},
   "outputs": [],
   "source": [
    "data = []\n",
    "\n",
    "with open(f'{RESULTS_DIR}/{year}_4_results.json', 'r') as f:\n",
    "    for line in f:\n",
    "        data.append(json.loads(line))"
   ]
  },
  {
   "cell_type": "code",
   "execution_count": 11,
   "metadata": {},
   "outputs": [],
   "source": [
    "results = []\n",
    "\n",
    "for i in range(len(data)):\n",
    "    results.append(data[i]['choices'][0]['message']['content'].strip()[0])"
   ]
  },
  {
   "cell_type": "code",
   "execution_count": null,
   "metadata": {},
   "outputs": [],
   "source": [
    "score1 = 0\n",
    "score2 = 0\n",
    "\n",
    "for i in range(len(results)):\n",
    "    if results[i] == 'X' and i % 2 == 0:\n",
    "        score1 += 1\n",
    "    elif results[i] == 'Y' and i % 2 == 1:\n",
    "        score2 += 1\n",
    "\n",
    "accuracy = (score1 + score2) / len(results)\n",
    "print(f\"Score 1 DESC YR: {score1 / (len(results) / 2)}\")\n",
    "print(f\"Score 2 ASC YR: {score2 / (len(results) / 2)}\")\n",
    "print(f\"Accuracy for {year} w/ year gap of 4 + position bias: {accuracy}\")"
   ]
  },
  {
   "cell_type": "markdown",
   "metadata": {},
   "source": [
    "## 6 year gap"
   ]
  },
  {
   "cell_type": "code",
   "execution_count": null,
   "metadata": {},
   "outputs": [],
   "source": [
    "data = []\n",
    "\n",
    "with open(f'{RESULTS_DIR}/{year}_6_results.json', 'r') as f:\n",
    "    for line in f:\n",
    "        data.append(json.loads(line))\n",
    "\n",
    "results = []\n",
    "\n",
    "for i in range(len(data)):\n",
    "    results.append(data[i]['choices'][0]['message']['content'].strip()[0])\n",
    "\n",
    "score1 = 0\n",
    "score2 = 0\n",
    "\n",
    "for i in range(len(results)):\n",
    "    if results[i] == 'X' and i % 2 == 0:\n",
    "        score1 += 1\n",
    "    elif results[i] == 'Y' and i % 2 == 1:\n",
    "        score2 += 1\n",
    "\n",
    "accuracy = (score1 + score2) / len(results)\n",
    "print(f\"Score 1 DESC YR: {score1 / (len(results) / 2)}\")\n",
    "print(f\"Score 2 ASC YR: {score2 / (len(results) / 2)}\")\n",
    "print(f\"Accuracy for {year} w/ year gap of 6 + position bias: {accuracy}\")"
   ]
  },
  {
   "cell_type": "markdown",
   "metadata": {},
   "source": [
    "## 8 year gap"
   ]
  },
  {
   "cell_type": "code",
   "execution_count": null,
   "metadata": {},
   "outputs": [],
   "source": [
    "data = []\n",
    "\n",
    "with open(f'{RESULTS_DIR}/{year}_8_results.json', 'r') as f:\n",
    "    for line in f:\n",
    "        data.append(json.loads(line))\n",
    "\n",
    "results = []\n",
    "\n",
    "for i in range(len(data)):\n",
    "    results.append(data[i]['choices'][0]['message']['content'].strip()[0])\n",
    "\n",
    "score1 = 0\n",
    "score2 = 0\n",
    "\n",
    "for i in range(len(results)):\n",
    "    if results[i] == 'X' and i % 2 == 0:\n",
    "        score1 += 1\n",
    "    elif results[i] == 'Y' and i % 2 == 1:\n",
    "        score2 += 1\n",
    "\n",
    "accuracy = (score1 + score2) / len(results)\n",
    "print(f\"Score 1 DESC YR: {score1 / (len(results) / 2)}\")\n",
    "print(f\"Score 2 ASC YR: {score2 / (len(results) / 2)}\")\n",
    "print(f\"Accuracy for {year} w/ year gap of 8 + position bias: {accuracy}\")"
   ]
  },
  {
   "cell_type": "markdown",
   "metadata": {},
   "source": [
    "## 10 year gap"
   ]
  },
  {
   "cell_type": "code",
   "execution_count": null,
   "metadata": {},
   "outputs": [],
   "source": [
    "data = []\n",
    "\n",
    "with open(f'{RESULTS_DIR}/{year}_10_results.json', 'r') as f:\n",
    "    for line in f:\n",
    "        data.append(json.loads(line))\n",
    "\n",
    "results = []\n",
    "\n",
    "for i in range(len(data)):\n",
    "    results.append(data[i]['choices'][0]['message']['content'].strip()[0])\n",
    "\n",
    "score1 = 0\n",
    "score2 = 0\n",
    "\n",
    "for i in range(len(results)):\n",
    "    if results[i] == 'X' and i % 2 == 0:\n",
    "        score1 += 1\n",
    "    elif results[i] == 'Y' and i % 2 == 1:\n",
    "        score2 += 1\n",
    "\n",
    "accuracy = (score1 + score2) / len(results)\n",
    "print(f\"Score 1 DESC YR: {score1 / (len(results) / 2)}\")\n",
    "print(f\"Score 2 ASC YR: {score2 / (len(results) / 2)}\")\n",
    "print(f\"Accuracy for {year} w/ year gap of 10 + position bias: {accuracy}\")"
   ]
  },
  {
   "cell_type": "code",
   "execution_count": null,
   "metadata": {},
   "outputs": [],
   "source": []
  }
 ],
 "metadata": {
  "kernelspec": {
   "display_name": "base",
   "language": "python",
   "name": "python3"
  },
  "language_info": {
   "codemirror_mode": {
    "name": "ipython",
    "version": 3
   },
   "file_extension": ".py",
   "mimetype": "text/x-python",
   "name": "python",
   "nbconvert_exporter": "python",
   "pygments_lexer": "ipython3",
   "version": "3.12.2"
  }
 },
 "nbformat": 4,
 "nbformat_minor": 2
}
