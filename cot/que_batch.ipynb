{
 "cells": [
  {
   "cell_type": "code",
   "execution_count": null,
   "metadata": {},
   "outputs": [],
   "source": [
    "from openai import OpenAI\n",
    "from dotenv import load_dotenv\n",
    "import os\n",
    "import json\n",
    "import time\n",
    "\n",
    "load_dotenv()\n",
    "\n",
    "# Batch Files Directory for a given Category\n",
    "BATCH_DIR = \"\""
   ]
  },
  {
   "cell_type": "code",
   "execution_count": 2,
   "metadata": {},
   "outputs": [],
   "source": [
    "org_id = os.getenv('OPENAI_ORG_ID')\n",
    "project_id = os.getenv('OPENAI_PROJECT_ID')\n",
    "\n",
    "client = OpenAI(\n",
    "    organization=org_id,\n",
    "    project=project_id,\n",
    ")"
   ]
  },
  {
   "cell_type": "code",
   "execution_count": 3,
   "metadata": {},
   "outputs": [],
   "source": [
    "years = ['2019', '2020', '2021', '2022', '2023']\n",
    "gaps = ['2', '4', '6', '8', '10']\n",
    "\n",
    "for year in years:\n",
    "    batch_details_file = f'{BATCH_DIR}/{year}_batch_details.json'\n",
    "    if os.path.exists(batch_details_file):\n",
    "        os.remove(batch_details_file)\n",
    "    for gap in gaps:\n",
    "        file_name = f'{BATCH_DIR}/{year}_{gap}_batch.json'\n",
    "        batch_file = client.files.create(\n",
    "            file=open(file_name, 'rb'),\n",
    "            purpose='batch'\n",
    "        )\n",
    "\n",
    "        batch_details = {\n",
    "            f\"{year}_{gap}_batch_id\": batch_file.id\n",
    "        }\n",
    "        with open(batch_details_file, 'a') as f:\n",
    "            f.write(json.dumps(batch_details) + '\\n')"
   ]
  },
  {
   "cell_type": "markdown",
   "metadata": {},
   "source": [
    "### Manually queing batches"
   ]
  },
  {
   "cell_type": "code",
   "execution_count": null,
   "metadata": {},
   "outputs": [],
   "source": [
    "# Replace with year and the batch details file path\n",
    "year = '2023'\n",
    "batch_details_file = f'{BATCH_DIR}/{year}_batch_details.json'\n",
    "\n",
    "batch_details = []\n",
    "\n",
    "with open(batch_details_file, 'r') as f:\n",
    "    for line in f:\n",
    "        batch_details.append(json.loads(line))\n",
    "\n",
    "batch_details"
   ]
  },
  {
   "cell_type": "code",
   "execution_count": 10,
   "metadata": {},
   "outputs": [],
   "source": [
    "# que batch job\n",
    "year = '2023'\n",
    "gap = '10'\n",
    "batch_file_id = batch_details[4][f'{year}_{gap}_batch_id']\n",
    "\n",
    "batch_job = client.batches.create(\n",
    "    input_file_id=batch_file_id,\n",
    "    endpoint='/v1/chat/completions',\n",
    "    completion_window=\"24h\"\n",
    ")"
   ]
  },
  {
   "cell_type": "markdown",
   "metadata": {},
   "source": [
    "### Automatically queing batches"
   ]
  },
  {
   "cell_type": "code",
   "execution_count": 4,
   "metadata": {},
   "outputs": [],
   "source": [
    "def wait_for_batch_completion(client, batch_job_id, poll_interval=60):\n",
    "    \"\"\"\n",
    "    Polls the status of the batch job until it is completed or failed.\n",
    "    :param client: API client to interact with batch jobs\n",
    "    :param batch_job_id: ID of the batch job to monitor\n",
    "    :param poll_interval: Time (in seconds) between each status check\n",
    "    :return: Status of the completed batch job (e.g., \"completed\", \"failed\")\n",
    "    \"\"\"\n",
    "    while True:\n",
    "        batch_status = client.batches.retrieve(batch_job_id).status\n",
    "\n",
    "        if batch_status == 'completed':\n",
    "            print(f\"Batch {batch_job_id} completed successfully.\")\n",
    "            return 'completed'\n",
    "        elif batch_status == 'failed':\n",
    "            print(f\"Batch {batch_job_id} failed.\")\n",
    "            return 'failed'\n",
    "        elif batch_status == 'finalizing':\n",
    "            print(f\"Batch {batch_job_id} is finalizing, waiting for completion...\")\n",
    "\n",
    "        time.sleep(poll_interval)\n"
   ]
  },
  {
   "cell_type": "code",
   "execution_count": 3,
   "metadata": {},
   "outputs": [],
   "source": [
    "'''\n",
    "This code will que all the batches at once (all years and year gaps). Modify the loop and add calls to the wait_for_batch_completion to change how many batches to call at a given time.\n",
    "NOTE: OpenAI API has limits on how many tokens you can que using batch processing, so modify as needed. \n",
    "'''\n",
    "\n",
    "years = ['2019', '2020', '2021', '2022', '2023']\n",
    "gap = ['2', '4', '6', '8', '10']\n",
    "\n",
    "for year in years:\n",
    "    batch_details_file = f'{BATCH_DIR}/{year}_batch_details.json'\n",
    "\n",
    "    batch_details = []\n",
    "\n",
    "    with open(batch_details_file, 'r') as f:\n",
    "        for line in f:\n",
    "            batch_details.append(json.loads(line))\n",
    "\n",
    "    # for i, gap in tqdm(enumerate(gaps)):\n",
    "    batch_file_id1 = batch_details[0][f'{year}_{gap[0]}_batch_id']\n",
    "\n",
    "    batch_job1 = client.batches.create(\n",
    "        input_file_id=batch_file_id1,\n",
    "        endpoint='/v1/chat/completions',\n",
    "        completion_window=\"24h\"\n",
    "    )\n",
    "\n",
    "    batch_file_id2 = batch_details[1][f'{year}_{gap[1]}_batch_id']\n",
    "\n",
    "    batch_job2 = client.batches.create(\n",
    "        input_file_id=batch_file_id2,\n",
    "        endpoint='/v1/chat/completions',\n",
    "        completion_window=\"24h\"\n",
    "    )\n",
    "\n",
    "    batch_file_id3 = batch_details[2][f'{year}_{gap[2]}_batch_id']\n",
    "\n",
    "    batch_job3 = client.batches.create(\n",
    "        input_file_id=batch_file_id3,\n",
    "        endpoint='/v1/chat/completions',\n",
    "        completion_window=\"24h\"\n",
    "    )\n",
    "\n",
    "    batch_file_id4 = batch_details[3][f'{year}_{gap[3]}_batch_id']\n",
    "\n",
    "    batch_job4 = client.batches.create(\n",
    "        input_file_id=batch_file_id4,\n",
    "        endpoint='/v1/chat/completions',\n",
    "        completion_window=\"24h\"\n",
    "    )\n",
    "\n",
    "    batch_file_id5 = batch_details[4][f'{year}_{gap[4]}_batch_id']\n",
    "\n",
    "    batch_job5 = client.batches.create(\n",
    "        input_file_id=batch_file_id5,\n",
    "        endpoint='/v1/chat/completions',\n",
    "        completion_window=\"24h\"\n",
    "    )\n",
    "\n",
    "    # wait_for_batch_completion(client, batch_job1.id)\n",
    "    # wait_for_batch_completion(client, batch_job2.id)\n",
    "    # wait_for_batch_completion(client, batch_job3.id)\n",
    "    # wait_for_batch_completion(client, batch_job4.id)\n",
    "    # wait_for_batch_completion(client, batch_job5.id)\n"
   ]
  },
  {
   "cell_type": "code",
   "execution_count": null,
   "metadata": {},
   "outputs": [],
   "source": []
  }
 ],
 "metadata": {
  "kernelspec": {
   "display_name": "venv",
   "language": "python",
   "name": "python3"
  },
  "language_info": {
   "codemirror_mode": {
    "name": "ipython",
    "version": 3
   },
   "file_extension": ".py",
   "mimetype": "text/x-python",
   "name": "python",
   "nbconvert_exporter": "python",
   "pygments_lexer": "ipython3",
   "version": "3.12.2"
  }
 },
 "nbformat": 4,
 "nbformat_minor": 2
}
