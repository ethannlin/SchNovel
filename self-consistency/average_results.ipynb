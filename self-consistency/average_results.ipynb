{
 "cells": [
  {
   "cell_type": "code",
   "execution_count": 5,
   "metadata": {},
   "outputs": [],
   "source": [
    "import json\n",
    "import re"
   ]
  },
  {
   "cell_type": "code",
   "execution_count": null,
   "metadata": {},
   "outputs": [],
   "source": [
    "# Replace with the directory containing all results json files. \n",
    "RESULTS_DIR = \"\""
   ]
  },
  {
   "cell_type": "code",
   "execution_count": 6,
   "metadata": {},
   "outputs": [],
   "source": [
    "years = [2019, 2020, 2021, 2022, 2023]\n",
    "gaps = [2, 4, 6, 8, 10]"
   ]
  },
  {
   "cell_type": "code",
   "execution_count": null,
   "metadata": {},
   "outputs": [],
   "source": [
    "score = 0\n",
    "count = 0\n",
    "\n",
    "for year in years:\n",
    "    for gap in gaps:\n",
    "        asc_yr = 0\n",
    "        dsc_yr = 0\n",
    "        results = []\n",
    "\n",
    "        data = []\n",
    "\n",
    "        with open(f'{RESULTS_DIR}/{year}_{gap}_results.jsonl', 'r') as f:\n",
    "            for line in f:\n",
    "                data.append(json.loads(line))\n",
    "\n",
    "        results = []\n",
    "\n",
    "        for i in range(len(data)):\n",
    "            x_counter = 0\n",
    "            y_counter = 0\n",
    "            for j in range(len(data[i]['response']['body']['choices'])):\n",
    "                content = data[i]['response']['body']['choices'][j]['message']['content']\n",
    "                match = re.search(r'more novel and impactful paper is[\\s\\*\\.\\,]*(?:Paper\\s*)?([XY])[\\s\\*\\.\\,]*', content, re.IGNORECASE)\n",
    "\n",
    "                if match:\n",
    "                    print(match.group(1))\n",
    "                    if match.group(1) == 'X':\n",
    "                        x_counter += 1\n",
    "                    elif match.group(1) == 'Y':\n",
    "                        y_counter += 1\n",
    "                else:\n",
    "                    # If no match, print the content for manual review\n",
    "                    print(f\"No match found in content: \\n{content}\")\n",
    "                    user_input = input(\"Please manually identify the paper (X or Y) from the content above: \")\n",
    "                    if user_input == 'X':\n",
    "                        x_counter += 1\n",
    "                    elif user_input == 'Y':\n",
    "                        y_counter += 1\n",
    "\n",
    "            if x_counter > y_counter:\n",
    "                results.append('X')\n",
    "            elif y_counter > x_counter:\n",
    "                results.append('Y')\n",
    "            else:\n",
    "                if i % 2 == 0:\n",
    "                    results.append('X')\n",
    "                else:\n",
    "                    results.append('Y')\n",
    "\n",
    "        print(f\"{year}_{gap} Valid Results?: {all(result in ['X', 'Y'] for result in results)}\")\n",
    "\n",
    "        for i in range(len(results)):\n",
    "            if results[i] == 'X' and i % 2 == 0:\n",
    "                dsc_yr += 1\n",
    "                score += 1\n",
    "            elif results[i] == 'Y' and i % 2 == 1:\n",
    "                asc_yr += 1\n",
    "                score += 1\n",
    "            count += 1\n",
    "\n",
    "        # print(f\"{year}_{gap} ASC YR: {asc_yr/(len(results)/2)}\")\n",
    "        # print(f\"{year}_{gap} DSC YR: {dsc_yr/(len(results)/2)}\")\n",
    "        print(f\"{year}_{gap} Acc: {(asc_yr + dsc_yr) / len(results)}\")\n",
    "print(f\"Overall Accuracy: {score/count}\")"
   ]
  },
  {
   "cell_type": "code",
   "execution_count": null,
   "metadata": {},
   "outputs": [],
   "source": []
  }
 ],
 "metadata": {
  "kernelspec": {
   "display_name": "base",
   "language": "python",
   "name": "python3"
  },
  "language_info": {
   "codemirror_mode": {
    "name": "ipython",
    "version": 3
   },
   "file_extension": ".py",
   "mimetype": "text/x-python",
   "name": "python",
   "nbconvert_exporter": "python",
   "pygments_lexer": "ipython3",
   "version": "3.12.2"
  }
 },
 "nbformat": 4,
 "nbformat_minor": 2
}
